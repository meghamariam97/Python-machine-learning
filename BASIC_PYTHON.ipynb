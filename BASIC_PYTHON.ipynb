{
  "nbformat": 4,
  "nbformat_minor": 0,
  "metadata": {
    "colab": {
      "provenance": [],
      "authorship_tag": "ABX9TyP5iegaIxAY5/mGFZ9bgAbS",
      "include_colab_link": true
    },
    "kernelspec": {
      "name": "python3",
      "display_name": "Python 3"
    },
    "language_info": {
      "name": "python"
    }
  },
  "cells": [
    {
      "cell_type": "markdown",
      "metadata": {
        "id": "view-in-github",
        "colab_type": "text"
      },
      "source": [
        "<a href=\"https://colab.research.google.com/github/meghamariam97/Python-machine-learning/blob/main/BASIC_PYTHON.ipynb\" target=\"_parent\"><img src=\"https://colab.research.google.com/assets/colab-badge.svg\" alt=\"Open In Colab\"/></a>"
      ]
    },
    {
      "cell_type": "markdown",
      "source": [
        "# Introduction to `Python`\n",
        "\n",
        "First Program: Displays a Hello"
      ],
      "metadata": {
        "id": "8v-BuE7L7Jba"
      }
    },
    {
      "cell_type": "code",
      "source": [
        "print(\"Hello\")"
      ],
      "metadata": {
        "colab": {
          "base_uri": "https://localhost:8080/"
        },
        "id": "VS1ngPt475CR",
        "outputId": "e72c155e-86fb-41e9-e7e6-7412e638d4f8"
      },
      "execution_count": 1,
      "outputs": [
        {
          "output_type": "stream",
          "name": "stdout",
          "text": [
            "Hello\n"
          ]
        }
      ]
    },
    {
      "cell_type": "markdown",
      "source": [
        ">Program to assign an integer and display it"
      ],
      "metadata": {
        "id": "fsxWABhv9Omp"
      }
    },
    {
      "cell_type": "markdown",
      "source": [
        "> Program to find sum of two numbers"
      ],
      "metadata": {
        "id": "cQcVeXlQ9pGx"
      }
    },
    {
      "cell_type": "code",
      "source": [
        "a=10\n",
        "b=24\n",
        "sum = a+b\n",
        "print(\"sum of the numbers is:\" ,sum)"
      ],
      "metadata": {
        "colab": {
          "base_uri": "https://localhost:8080/"
        },
        "id": "hNZwzrZB92e4",
        "outputId": "32a46043-2a13-4dd0-f315-7a4e2d288b42"
      },
      "execution_count": 4,
      "outputs": [
        {
          "output_type": "stream",
          "name": "stdout",
          "text": [
            "sum of the numbers is: 34\n"
          ]
        }
      ]
    },
    {
      "cell_type": "markdown",
      "source": [
        ">Read two numbers from the user and find the sum"
      ],
      "metadata": {
        "id": "E0mR_zjA-VIY"
      }
    },
    {
      "cell_type": "code",
      "source": [
        "a=int(input(\"Enter the first number:\"))# here input function read values as strings. int() cast it to integer\n",
        "b=int(input(\"Enter the second number:\"))"
      ],
      "metadata": {
        "colab": {
          "base_uri": "https://localhost:8080/"
        },
        "id": "MW9R3J4X-bDI",
        "outputId": "d5c5c686-279c-4f64-c03a-7393341ecfa5"
      },
      "execution_count": 11,
      "outputs": [
        {
          "name": "stdout",
          "output_type": "stream",
          "text": [
            "Enter the first number:10\n",
            "Enter the second number:10\n"
          ]
        }
      ]
    },
    {
      "cell_type": "code",
      "source": [
        "#displaying a and b\n",
        "print(a)\n"
      ],
      "metadata": {
        "colab": {
          "base_uri": "https://localhost:8080/"
        },
        "id": "Lx-vQ7lb-5q_",
        "outputId": "95b927a9-3129-47a7-cda4-669f29302fbe"
      },
      "execution_count": 6,
      "outputs": [
        {
          "output_type": "stream",
          "name": "stdout",
          "text": [
            "10\n"
          ]
        }
      ]
    },
    {
      "cell_type": "code",
      "source": [
        "sum=a+b\n",
        "print(sum)"
      ],
      "metadata": {
        "colab": {
          "base_uri": "https://localhost:8080/"
        },
        "id": "q6QmwSiy_G0v",
        "outputId": "5a584bd7-edde-4be6-91c8-1af5aff47930"
      },
      "execution_count": 12,
      "outputs": [
        {
          "output_type": "stream",
          "name": "stdout",
          "text": [
            "20\n"
          ]
        }
      ]
    },
    {
      "cell_type": "code",
      "source": [
        "a=10\n",
        "print(\"Value of the variable a is:\" ,a)"
      ],
      "metadata": {
        "colab": {
          "base_uri": "https://localhost:8080/"
        },
        "id": "Ky0gJpEF8qtJ",
        "outputId": "717e60ff-bb93-4583-e5ae-901799e23360"
      },
      "execution_count": 3,
      "outputs": [
        {
          "output_type": "stream",
          "name": "stdout",
          "text": [
            "Value of the variable a is: 10\n"
          ]
        }
      ]
    },
    {
      "cell_type": "code",
      "source": [],
      "metadata": {
        "id": "nqsOCQ9g8_yw"
      },
      "execution_count": null,
      "outputs": []
    }
  ]
}